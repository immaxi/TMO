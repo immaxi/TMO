{
 "cells": [
  {
   "cell_type": "markdown",
   "id": "87a5a86a",
   "metadata": {},
   "source": [
    "# Лабораторная работа №5. Яровенко Максим, ИУ5Ц-82Б\n",
    "# Подготовка данных"
   ]
  },
  {
   "cell_type": "code",
   "execution_count": 1,
   "id": "ce2c361c",
   "metadata": {},
   "outputs": [],
   "source": [
    "import pandas as pd\n",
    "import seaborn as sns\n",
    "import matplotlib.pyplot as plt\n",
    "import numpy as np\n",
    "from sklearn.preprocessing import PolynomialFeatures, MinMaxScaler, StandardScaler\n",
    "from sklearn.linear_model import LinearRegression, Lasso, Ridge\n",
    "from sklearn.tree import DecisionTreeRegressor, export_graphviz, export_text\n",
    "from sklearn.svm import SVR\n",
    "from sklearn.metrics import r2_score, mean_squared_error, mean_absolute_error\n",
    "from sklearn.model_selection import train_test_split, GridSearchCV\n",
    "from IPython.display import Image\n",
    "from IPython.core.display import HTML\n",
    "from sklearn.ensemble import RandomForestRegressor, GradientBoostingRegressor\n",
    "from heamy.dataset import Dataset\n",
    "from heamy.estimator import Regressor\n",
    "from heamy.pipeline import ModelsPipeline\n",
    "from sklearn.neural_network import MLPRegressor\n",
    "from gmdhpy import gmdh\n",
    "from warnings import simplefilter\n",
    "\n",
    "simplefilter('ignore')"
   ]
  },
  {
   "cell_type": "code",
   "execution_count": 2,
   "id": "a03ed0a6",
   "metadata": {},
   "outputs": [
    {
     "data": {
      "text/html": [
       "<div>\n",
       "<style scoped>\n",
       "    .dataframe tbody tr th:only-of-type {\n",
       "        vertical-align: middle;\n",
       "    }\n",
       "\n",
       "    .dataframe tbody tr th {\n",
       "        vertical-align: top;\n",
       "    }\n",
       "\n",
       "    .dataframe thead th {\n",
       "        text-align: right;\n",
       "    }\n",
       "</style>\n",
       "<table border=\"1\" class=\"dataframe\">\n",
       "  <thead>\n",
       "    <tr style=\"text-align: right;\">\n",
       "      <th></th>\n",
       "      <th>fixed acidity</th>\n",
       "      <th>volatile acidity</th>\n",
       "      <th>citric acid</th>\n",
       "      <th>residual sugar</th>\n",
       "      <th>chlorides</th>\n",
       "      <th>free sulfur dioxide</th>\n",
       "      <th>total sulfur dioxide</th>\n",
       "      <th>density</th>\n",
       "      <th>pH</th>\n",
       "      <th>sulphates</th>\n",
       "      <th>alcohol</th>\n",
       "      <th>quality</th>\n",
       "      <th>Id</th>\n",
       "    </tr>\n",
       "  </thead>\n",
       "  <tbody>\n",
       "    <tr>\n",
       "      <th>0</th>\n",
       "      <td>7.4</td>\n",
       "      <td>0.70</td>\n",
       "      <td>0.00</td>\n",
       "      <td>1.9</td>\n",
       "      <td>0.076</td>\n",
       "      <td>11.0</td>\n",
       "      <td>34.0</td>\n",
       "      <td>0.9978</td>\n",
       "      <td>3.51</td>\n",
       "      <td>0.56</td>\n",
       "      <td>9.4</td>\n",
       "      <td>5</td>\n",
       "      <td>0</td>\n",
       "    </tr>\n",
       "    <tr>\n",
       "      <th>1</th>\n",
       "      <td>7.8</td>\n",
       "      <td>0.88</td>\n",
       "      <td>0.00</td>\n",
       "      <td>2.6</td>\n",
       "      <td>0.098</td>\n",
       "      <td>25.0</td>\n",
       "      <td>67.0</td>\n",
       "      <td>0.9968</td>\n",
       "      <td>3.20</td>\n",
       "      <td>0.68</td>\n",
       "      <td>9.8</td>\n",
       "      <td>5</td>\n",
       "      <td>1</td>\n",
       "    </tr>\n",
       "    <tr>\n",
       "      <th>2</th>\n",
       "      <td>7.8</td>\n",
       "      <td>0.76</td>\n",
       "      <td>0.04</td>\n",
       "      <td>2.3</td>\n",
       "      <td>0.092</td>\n",
       "      <td>15.0</td>\n",
       "      <td>54.0</td>\n",
       "      <td>0.9970</td>\n",
       "      <td>3.26</td>\n",
       "      <td>0.65</td>\n",
       "      <td>9.8</td>\n",
       "      <td>5</td>\n",
       "      <td>2</td>\n",
       "    </tr>\n",
       "    <tr>\n",
       "      <th>3</th>\n",
       "      <td>11.2</td>\n",
       "      <td>0.28</td>\n",
       "      <td>0.56</td>\n",
       "      <td>1.9</td>\n",
       "      <td>0.075</td>\n",
       "      <td>17.0</td>\n",
       "      <td>60.0</td>\n",
       "      <td>0.9980</td>\n",
       "      <td>3.16</td>\n",
       "      <td>0.58</td>\n",
       "      <td>9.8</td>\n",
       "      <td>6</td>\n",
       "      <td>3</td>\n",
       "    </tr>\n",
       "    <tr>\n",
       "      <th>4</th>\n",
       "      <td>7.4</td>\n",
       "      <td>0.70</td>\n",
       "      <td>0.00</td>\n",
       "      <td>1.9</td>\n",
       "      <td>0.076</td>\n",
       "      <td>11.0</td>\n",
       "      <td>34.0</td>\n",
       "      <td>0.9978</td>\n",
       "      <td>3.51</td>\n",
       "      <td>0.56</td>\n",
       "      <td>9.4</td>\n",
       "      <td>5</td>\n",
       "      <td>4</td>\n",
       "    </tr>\n",
       "  </tbody>\n",
       "</table>\n",
       "</div>"
      ],
      "text/plain": [
       "   fixed acidity  volatile acidity  citric acid  residual sugar  chlorides  \\\n",
       "0            7.4              0.70         0.00             1.9      0.076   \n",
       "1            7.8              0.88         0.00             2.6      0.098   \n",
       "2            7.8              0.76         0.04             2.3      0.092   \n",
       "3           11.2              0.28         0.56             1.9      0.075   \n",
       "4            7.4              0.70         0.00             1.9      0.076   \n",
       "\n",
       "   free sulfur dioxide  total sulfur dioxide  density    pH  sulphates  \\\n",
       "0                 11.0                  34.0   0.9978  3.51       0.56   \n",
       "1                 25.0                  67.0   0.9968  3.20       0.68   \n",
       "2                 15.0                  54.0   0.9970  3.26       0.65   \n",
       "3                 17.0                  60.0   0.9980  3.16       0.58   \n",
       "4                 11.0                  34.0   0.9978  3.51       0.56   \n",
       "\n",
       "   alcohol  quality  Id  \n",
       "0      9.4        5   0  \n",
       "1      9.8        5   1  \n",
       "2      9.8        5   2  \n",
       "3      9.8        6   3  \n",
       "4      9.4        5   4  "
      ]
     },
     "execution_count": 2,
     "metadata": {},
     "output_type": "execute_result"
    }
   ],
   "source": [
    "data = pd.read_csv('WineQT.csv')\n",
    "data.head()"
   ]
  },
  {
   "cell_type": "code",
   "execution_count": 3,
   "id": "df3fb37e",
   "metadata": {},
   "outputs": [
    {
     "data": {
      "text/plain": [
       "alcohol             0.484866\n",
       "volatile acidity    0.407394\n",
       "Name: quality, dtype: float64"
      ]
     },
     "execution_count": 3,
     "metadata": {},
     "output_type": "execute_result"
    }
   ],
   "source": [
    "# Корреляция с целевым признаком quality по модулю - top\n",
    "best_params = data.corr()['quality'].map(abs).sort_values(ascending=False)[1:]\n",
    "best_params = best_params[best_params.values > 0.35]\n",
    "best_params"
   ]
  },
  {
   "cell_type": "markdown",
   "id": "f59f31ae",
   "metadata": {},
   "source": [
    "# Разделение выборки на обучающую и тестовую"
   ]
  },
  {
   "cell_type": "code",
   "execution_count": 4,
   "id": "2a9ba467",
   "metadata": {},
   "outputs": [],
   "source": [
    "x_train, x_test, y_train, y_test = train_test_split(data[best_params.index], data['quality'], test_size=0.3, random_state=3)"
   ]
  },
  {
   "cell_type": "markdown",
   "id": "6ca91931",
   "metadata": {},
   "source": [
    "# Масштабирование данных"
   ]
  },
  {
   "cell_type": "code",
   "execution_count": 5,
   "id": "32a86355",
   "metadata": {},
   "outputs": [],
   "source": [
    "scaler = StandardScaler().fit(x_train)\n",
    "x_train_scaled = pd.DataFrame(scaler.transform(x_train), columns=x_train.columns)\n",
    "x_test_scaled = pd.DataFrame(scaler.transform(x_test), columns=x_train.columns)"
   ]
  },
  {
   "cell_type": "code",
   "execution_count": 6,
   "id": "e3d167fd",
   "metadata": {},
   "outputs": [],
   "source": [
    "# функция для вывода метрики\n",
    "def print_metrics(y_test, y_pred):\n",
    "    print(f\"R^2: {r2_score(y_test, y_pred)}\")\n",
    "    print(f\"MSE: {mean_squared_error(y_test, y_pred)}\")\n",
    "    print(f\"MAE: {mean_absolute_error(y_test, y_pred)}\")"
   ]
  },
  {
   "cell_type": "markdown",
   "id": "2ff8823f",
   "metadata": {},
   "source": [
    "# 1) Случайный лес"
   ]
  },
  {
   "cell_type": "code",
   "execution_count": 7,
   "id": "1a4bc538",
   "metadata": {},
   "outputs": [
    {
     "name": "stdout",
     "output_type": "stream",
     "text": [
      "R^2: 0.28978066611300657\n",
      "MSE: 0.4954131344488266\n",
      "MAE: 0.5220408032201035\n"
     ]
    }
   ],
   "source": [
    "print_metrics(y_test, RandomForestRegressor(random_state=17).fit(x_train, y_train).predict(x_test))"
   ]
  },
  {
   "cell_type": "code",
   "execution_count": 8,
   "id": "ee4fc11d",
   "metadata": {},
   "outputs": [
    {
     "name": "stdout",
     "output_type": "stream",
     "text": [
      "{'criterion': 'absolute_error', 'max_features': 'sqrt', 'min_samples_leaf': 5, 'n_estimators': 1000}\n"
     ]
    }
   ],
   "source": [
    "# Подбор гиперпараметров\n",
    "rf = RandomForestRegressor(random_state=17)\n",
    "params = {'n_estimators': [100, 1000], 'criterion': ['squared_error', 'absolute_error', 'poisson'], \n",
    "          'max_features': ['auto', 'sqrt'], 'min_samples_leaf': [1, 3, 5]}\n",
    "grid_cv = GridSearchCV(estimator=rf, cv=5, param_grid=params, n_jobs=-1, scoring='neg_mean_absolute_error')\n",
    "grid_cv.fit(x_train, y_train)\n",
    "print(grid_cv.best_params_)"
   ]
  },
  {
   "cell_type": "code",
   "execution_count": 9,
   "id": "0984c196",
   "metadata": {},
   "outputs": [
    {
     "name": "stdout",
     "output_type": "stream",
     "text": [
      "R^2: 0.36891526610593905\n",
      "MSE: 0.440212834548105\n",
      "MAE: 0.49538338192419823\n"
     ]
    }
   ],
   "source": [
    "best_rf = grid_cv.best_estimator_\n",
    "best_rf.fit(x_train, y_train)\n",
    "y_pred_rf = best_rf.predict(x_test)\n",
    "print_metrics(y_test, y_pred_rf)"
   ]
  },
  {
   "cell_type": "markdown",
   "id": "d38a77d7",
   "metadata": {},
   "source": [
    "# 2) Градиентный бустинг"
   ]
  },
  {
   "cell_type": "code",
   "execution_count": 10,
   "id": "dfac4454",
   "metadata": {},
   "outputs": [
    {
     "name": "stdout",
     "output_type": "stream",
     "text": [
      "R^2: 0.36898737951760985\n",
      "MSE: 0.44016253187454063\n",
      "MAE: 0.5098384291898982\n"
     ]
    }
   ],
   "source": [
    "print_metrics(y_test, GradientBoostingRegressor(random_state=17).fit(x_train, y_train).predict(x_test))"
   ]
  },
  {
   "cell_type": "code",
   "execution_count": 11,
   "id": "4878afd0",
   "metadata": {},
   "outputs": [
    {
     "name": "stdout",
     "output_type": "stream",
     "text": [
      "{'criterion': 'friedman_mse', 'loss': 'huber', 'min_samples_leaf': 5, 'n_estimators': 50}\n"
     ]
    }
   ],
   "source": [
    "# Подбор гиперпараметров\n",
    "gb = GradientBoostingRegressor(random_state=17)\n",
    "params = {'loss': ['squared_error', 'absolute_error', 'huber'], 'n_estimators': [10, 50, 100, 200], \n",
    "          'criterion': ['friedman_mse', 'squared_error', 'mse', 'mae'], 'min_samples_leaf': [1, 3, 5]}\n",
    "grid_cv = GridSearchCV(estimator=gb, cv=5, param_grid=params, n_jobs=-1, scoring='r2')\n",
    "grid_cv.fit(x_train, y_train)\n",
    "print(grid_cv.best_params_)"
   ]
  },
  {
   "cell_type": "code",
   "execution_count": 12,
   "id": "09c74185",
   "metadata": {},
   "outputs": [
    {
     "name": "stdout",
     "output_type": "stream",
     "text": [
      "R^2: 0.36977330557355503\n",
      "MSE: 0.4396143095546977\n",
      "MAE: 0.5149608490000053\n"
     ]
    }
   ],
   "source": [
    "best_gb = grid_cv.best_estimator_\n",
    "best_gb.fit(x_train, y_train)\n",
    "y_pred_gb = best_gb.predict(x_test)\n",
    "print_metrics(y_test, y_pred_gb)"
   ]
  },
  {
   "cell_type": "markdown",
   "id": "af0e2740",
   "metadata": {},
   "source": [
    "# 3) Стекинг"
   ]
  },
  {
   "cell_type": "code",
   "execution_count": 13,
   "id": "bc8435fc",
   "metadata": {},
   "outputs": [],
   "source": [
    "dataset = Dataset(x_train, y_train, x_test)"
   ]
  },
  {
   "cell_type": "code",
   "execution_count": 14,
   "id": "9706d889",
   "metadata": {},
   "outputs": [],
   "source": [
    "model_lr = Regressor(dataset=dataset, estimator=LinearRegression, name='lr')\n",
    "model_rf = Regressor(dataset=dataset, estimator=RandomForestRegressor, \n",
    "                     parameters={'criterion': 'absolute_error', 'n_estimators': 1000, 'random_state': 17}, name='rf')\n",
    "model_gb = Regressor(dataset=dataset, estimator=GradientBoostingRegressor, \n",
    "                     parameters={'loss': 'huber', 'random_state': 17}, name='rf')"
   ]
  },
  {
   "cell_type": "code",
   "execution_count": 15,
   "id": "d82f2f00",
   "metadata": {},
   "outputs": [
    {
     "name": "stdout",
     "output_type": "stream",
     "text": [
      "Metric: mean_absolute_error\n",
      "Folds accuracy: [0.45303357163695085, 0.52099080770264, 0.5714916276022585, 0.6143458360850492, 0.4921136270742079, 0.5390750810298814, 0.5007616552918026, 0.5110169706483926, 0.5720269719809311, 0.5756952310256137]\n",
      "Mean accuracy: 0.5350551380077728\n",
      "Standard Deviation: 0.0460136053034209\n",
      "Variance: 0.0021172518730190036\n"
     ]
    }
   ],
   "source": [
    "pipeline = ModelsPipeline(model_lr, model_rf)\n",
    "stack_ds = pipeline.stack(k=10, seed=1)\n",
    "stacker = Regressor(dataset=stack_ds, estimator=GradientBoostingRegressor)\n",
    "results = stacker.validate(k=10, scorer=mean_absolute_error)"
   ]
  },
  {
   "cell_type": "code",
   "execution_count": 16,
   "id": "17ee168a",
   "metadata": {},
   "outputs": [
    {
     "name": "stdout",
     "output_type": "stream",
     "text": [
      "R^2: 0.3445693919705236\n",
      "MSE: 0.4571952866454199\n",
      "MAE: 0.5179566134659866\n"
     ]
    }
   ],
   "source": [
    "y_pred_stack = stacker.predict()\n",
    "print_metrics(y_test, y_pred_stack)"
   ]
  },
  {
   "cell_type": "markdown",
   "id": "5f4afc57",
   "metadata": {},
   "source": [
    "# 4) Многослойный персептрон"
   ]
  },
  {
   "cell_type": "code",
   "execution_count": 17,
   "id": "0a8e9d9b",
   "metadata": {},
   "outputs": [
    {
     "name": "stdout",
     "output_type": "stream",
     "text": [
      "R^2: 0.2555198139044854\n",
      "MSE: 0.5193117744486948\n",
      "MAE: 0.5569992843855261\n"
     ]
    }
   ],
   "source": [
    "print_metrics(y_test, MLPRegressor(random_state=17).fit(x_train, y_train).predict(x_test))"
   ]
  },
  {
   "cell_type": "code",
   "execution_count": 18,
   "id": "31dc5dcf",
   "metadata": {},
   "outputs": [
    {
     "name": "stdout",
     "output_type": "stream",
     "text": [
      "{'alpha': 0.0001, 'hidden_layer_sizes': (100, 40), 'max_iter': 500, 'solver': 'lbfgs'}\n"
     ]
    }
   ],
   "source": [
    "# Подбор гиперпараметров\n",
    "mlp = MLPRegressor(random_state=17)\n",
    "params = {'solver': ['lbfgs', 'sgd', 'adam'], 'hidden_layer_sizes': [(100,), (50, 30,), (100, 40,)], \n",
    "          'alpha': [1e-4, 3e-4, 5e-4], 'max_iter': [500, 1000]}\n",
    "grid_cv = GridSearchCV(estimator=mlp, cv=5, param_grid=params, n_jobs=-1, scoring='r2')\n",
    "grid_cv.fit(x_train, y_train)\n",
    "print(grid_cv.best_params_)"
   ]
  },
  {
   "cell_type": "code",
   "execution_count": 19,
   "id": "2e69d35b",
   "metadata": {},
   "outputs": [
    {
     "name": "stdout",
     "output_type": "stream",
     "text": [
      "R^2: 0.3739784039327737\n",
      "MSE: 0.43668104533700236\n",
      "MAE: 0.5208742777084037\n"
     ]
    }
   ],
   "source": [
    "best_mlp = grid_cv.best_estimator_\n",
    "best_mlp.fit(x_train, y_train)\n",
    "y_pred_mlp = best_mlp.predict(x_test)\n",
    "print_metrics(y_test, y_pred_mlp)"
   ]
  },
  {
   "cell_type": "markdown",
   "id": "bfa28456",
   "metadata": {},
   "source": [
    "# 5) Метод группового учёта аргументов"
   ]
  },
  {
   "cell_type": "code",
   "execution_count": 20,
   "id": "1f70fdc8",
   "metadata": {},
   "outputs": [
    {
     "name": "stdout",
     "output_type": "stream",
     "text": [
      "train layer0 in 0.00 sec\n",
      "train layer1 in 0.00 sec\n",
      "train layer2 in 0.00 sec\n",
      "train layer3 in 0.00 sec\n",
      "\n",
      "R^2: 0.36896775606465493\n",
      "MSE: 0.4401762202041498\n",
      "MAE: 0.5183861424267228\n"
     ]
    }
   ],
   "source": [
    "gm = gmdh.Regressor(n_jobs=-1)\n",
    "gm.fit(np.array(x_train_scaled), np.array(y_train))\n",
    "y_pred_gm = gm.predict(np.array(x_test_scaled))\n",
    "print()\n",
    "print_metrics(y_test, y_pred_gm)"
   ]
  },
  {
   "cell_type": "markdown",
   "id": "725d769c",
   "metadata": {},
   "source": [
    "# Сравнение моделей"
   ]
  },
  {
   "cell_type": "code",
   "execution_count": 21,
   "id": "72146020",
   "metadata": {},
   "outputs": [
    {
     "name": "stdout",
     "output_type": "stream",
     "text": [
      "Случайный лес\n",
      "R^2: 0.36891526610593905\n",
      "MSE: 0.440212834548105\n",
      "MAE: 0.49538338192419823\n",
      "\n",
      "Градиентный бустинг\n",
      "R^2: 0.36977330557355503\n",
      "MSE: 0.4396143095546977\n",
      "MAE: 0.5149608490000053\n",
      "\n",
      "Стекинг\n",
      "R^2: 0.3445693919705236\n",
      "MSE: 0.4571952866454199\n",
      "MAE: 0.5179566134659866\n",
      "\n",
      "Многослойный персептрон\n",
      "R^2: 0.3739784039327737\n",
      "MSE: 0.43668104533700236\n",
      "MAE: 0.5208742777084037\n",
      "\n",
      "Метод группового учёта аргументов\n",
      "R^2: 0.36896775606465493\n",
      "MSE: 0.4401762202041498\n",
      "MAE: 0.5183861424267228\n"
     ]
    }
   ],
   "source": [
    "print(\"Случайный лес\")\n",
    "print_metrics(y_test, y_pred_rf)\n",
    "\n",
    "print(\"\\nГрадиентный бустинг\")\n",
    "print_metrics(y_test, y_pred_gb)\n",
    "\n",
    "print(\"\\nСтекинг\")\n",
    "print_metrics(y_test, y_pred_stack)\n",
    "\n",
    "print(\"\\nМногослойный персептрон\")\n",
    "print_metrics(y_test, y_pred_mlp)\n",
    "\n",
    "print(\"\\nМетод группового учёта аргументов\")\n",
    "print_metrics(y_test, y_pred_gm)"
   ]
  }
 ],
 "metadata": {
  "kernelspec": {
   "display_name": "Python 3 (ipykernel)",
   "language": "python",
   "name": "python3"
  },
  "language_info": {
   "codemirror_mode": {
    "name": "ipython",
    "version": 3
   },
   "file_extension": ".py",
   "mimetype": "text/x-python",
   "name": "python",
   "nbconvert_exporter": "python",
   "pygments_lexer": "ipython3",
   "version": "3.10.4"
  }
 },
 "nbformat": 4,
 "nbformat_minor": 5
}