{
 "cells": [
  {
   "cell_type": "markdown",
   "id": "F4-701MzDbEY",
   "metadata": {
    "id": "F4-701MzDbEY"
   },
   "source": []
  },
  {
   "cell_type": "markdown",
   "id": "3664d6f6",
   "metadata": {
    "id": "3664d6f6"
   },
   "source": [
    "# Рубежный контроль №2 (29 вариант). Яровенко Максим, ИУ5Ц-82Б"
   ]
  },
  {
   "cell_type": "markdown",
   "id": "5b9e3966",
   "metadata": {
    "id": "5b9e3966"
   },
   "source": [
    "## Задание:"
   ]
  },
  {
   "cell_type": "markdown",
   "id": "a58f392e",
   "metadata": {
    "id": "a58f392e"
   },
   "source": [
    "Для заданного набора данных (по Вашему варианту) постройте модели классификации или регрессии (в зависимости от конкретной задачи, рассматриваемой в наборе данных). Для построения моделей используйте методы 1 и 2 (по варианту для Вашей группы). Оцените качество моделей на основе подходящих метрик качества (не менее двух метрик). Какие метрики качества Вы использовали и почему? Какие выводы Вы можете сделать о качестве построенных моделей? Для построения моделей необходимо выполнить требуемую предобработку данных: заполнение пропусков, кодирование категориальных признаков, и т.д."
   ]
  },
  {
   "cell_type": "markdown",
   "id": "9ce77abf",
   "metadata": {
    "id": "9ce77abf"
   },
   "source": [
    "Метод 1 - Метод опорных векторов\n",
    "\n",
    "Метод 2 - Случайный лес"
   ]
  },
  {
   "cell_type": "code",
   "execution_count": 1,
   "id": "317089e6",
   "metadata": {
    "id": "317089e6"
   },
   "outputs": [],
   "source": [
    "import numpy as np\n",
    "import pandas as pd\n",
    "import seaborn as sns\n",
    "import matplotlib.pyplot as plt\n",
    "from sklearn.model_selection import train_test_split, GridSearchCV\n",
    "from sklearn.svm import SVC\n",
    "from sklearn.metrics import classification_report, confusion_matrix\n",
    "from sklearn.ensemble import RandomForestClassifier"
   ]
  },
  {
   "cell_type": "code",
   "execution_count": 2,
   "id": "0ea2b612",
   "metadata": {
    "id": "0ea2b612"
   },
   "outputs": [],
   "source": [
    "df = pd.read_csv(\"toy_dataset.csv\", delimiter=\",\")"
   ]
  },
  {
   "cell_type": "code",
   "execution_count": 3,
   "id": "a7e7c738",
   "metadata": {
    "id": "a7e7c738",
    "outputId": "beeac558-972e-44aa-81bd-dc3a00649ac5"
   },
   "outputs": [
    {
     "name": "stdout",
     "output_type": "stream",
     "text": [
      "column Number is okay\n",
      "column City is okay\n",
      "column Gender is okay\n",
      "column Age is okay\n",
      "column Income is okay\n",
      "column Illness is okay\n"
     ]
    }
   ],
   "source": [
    "#Проверям датасет на наличие пустых значений\n",
    "for col in df.columns:\n",
    "    missing = df[col].isnull()\n",
    "    num_missing = np.sum(missing)\n",
    "    if num_missing > 0: \n",
    "        print('detected {}row null in {}'.format(num_missing,col))\n",
    "    else:\n",
    "        print('column {} is okay'.format(col))"
   ]
  },
  {
   "cell_type": "markdown",
   "id": "9e61be58",
   "metadata": {
    "id": "9e61be58"
   },
   "source": [
    "Пропуски не обнаружены"
   ]
  },
  {
   "cell_type": "code",
   "execution_count": 4,
   "id": "a40fc3d2",
   "metadata": {
    "id": "a40fc3d2",
    "outputId": "f54a608d-d927-4a27-bf68-1800159c6d11"
   },
   "outputs": [
    {
     "data": {
      "text/html": [
       "<div>\n",
       "<style scoped>\n",
       "    .dataframe tbody tr th:only-of-type {\n",
       "        vertical-align: middle;\n",
       "    }\n",
       "\n",
       "    .dataframe tbody tr th {\n",
       "        vertical-align: top;\n",
       "    }\n",
       "\n",
       "    .dataframe thead th {\n",
       "        text-align: right;\n",
       "    }\n",
       "</style>\n",
       "<table border=\"1\" class=\"dataframe\">\n",
       "  <thead>\n",
       "    <tr style=\"text-align: right;\">\n",
       "      <th></th>\n",
       "      <th>Number</th>\n",
       "      <th>City</th>\n",
       "      <th>Gender</th>\n",
       "      <th>Age</th>\n",
       "      <th>Income</th>\n",
       "      <th>Illness</th>\n",
       "    </tr>\n",
       "  </thead>\n",
       "  <tbody>\n",
       "    <tr>\n",
       "      <th>0</th>\n",
       "      <td>1</td>\n",
       "      <td>Dallas</td>\n",
       "      <td>Male</td>\n",
       "      <td>41</td>\n",
       "      <td>40367.0</td>\n",
       "      <td>No</td>\n",
       "    </tr>\n",
       "    <tr>\n",
       "      <th>1</th>\n",
       "      <td>2</td>\n",
       "      <td>Dallas</td>\n",
       "      <td>Male</td>\n",
       "      <td>54</td>\n",
       "      <td>45084.0</td>\n",
       "      <td>No</td>\n",
       "    </tr>\n",
       "    <tr>\n",
       "      <th>2</th>\n",
       "      <td>3</td>\n",
       "      <td>Dallas</td>\n",
       "      <td>Male</td>\n",
       "      <td>42</td>\n",
       "      <td>52483.0</td>\n",
       "      <td>No</td>\n",
       "    </tr>\n",
       "    <tr>\n",
       "      <th>3</th>\n",
       "      <td>4</td>\n",
       "      <td>Dallas</td>\n",
       "      <td>Male</td>\n",
       "      <td>40</td>\n",
       "      <td>40941.0</td>\n",
       "      <td>No</td>\n",
       "    </tr>\n",
       "    <tr>\n",
       "      <th>4</th>\n",
       "      <td>5</td>\n",
       "      <td>Dallas</td>\n",
       "      <td>Male</td>\n",
       "      <td>46</td>\n",
       "      <td>50289.0</td>\n",
       "      <td>No</td>\n",
       "    </tr>\n",
       "  </tbody>\n",
       "</table>\n",
       "</div>"
      ],
      "text/plain": [
       "   Number    City Gender  Age   Income Illness\n",
       "0       1  Dallas   Male   41  40367.0      No\n",
       "1       2  Dallas   Male   54  45084.0      No\n",
       "2       3  Dallas   Male   42  52483.0      No\n",
       "3       4  Dallas   Male   40  40941.0      No\n",
       "4       5  Dallas   Male   46  50289.0      No"
      ]
     },
     "execution_count": 4,
     "metadata": {},
     "output_type": "execute_result"
    }
   ],
   "source": [
    "#Первые пять строк датасета\n",
    "df.head()"
   ]
  },
  {
   "cell_type": "code",
   "execution_count": 5,
   "id": "4e01f2ab",
   "metadata": {
    "id": "4e01f2ab",
    "outputId": "bd409ce2-0f04-4ca7-d075-1075828f7050"
   },
   "outputs": [
    {
     "data": {
      "text/html": [
       "<div>\n",
       "<style scoped>\n",
       "    .dataframe tbody tr th:only-of-type {\n",
       "        vertical-align: middle;\n",
       "    }\n",
       "\n",
       "    .dataframe tbody tr th {\n",
       "        vertical-align: top;\n",
       "    }\n",
       "\n",
       "    .dataframe thead th {\n",
       "        text-align: right;\n",
       "    }\n",
       "</style>\n",
       "<table border=\"1\" class=\"dataframe\">\n",
       "  <thead>\n",
       "    <tr style=\"text-align: right;\">\n",
       "      <th></th>\n",
       "      <th>City</th>\n",
       "      <th>Gender</th>\n",
       "      <th>Age</th>\n",
       "      <th>Income</th>\n",
       "      <th>Illness</th>\n",
       "    </tr>\n",
       "  </thead>\n",
       "  <tbody>\n",
       "    <tr>\n",
       "      <th>0</th>\n",
       "      <td>Dallas</td>\n",
       "      <td>Male</td>\n",
       "      <td>41</td>\n",
       "      <td>40367.0</td>\n",
       "      <td>No</td>\n",
       "    </tr>\n",
       "    <tr>\n",
       "      <th>1</th>\n",
       "      <td>Dallas</td>\n",
       "      <td>Male</td>\n",
       "      <td>54</td>\n",
       "      <td>45084.0</td>\n",
       "      <td>No</td>\n",
       "    </tr>\n",
       "    <tr>\n",
       "      <th>2</th>\n",
       "      <td>Dallas</td>\n",
       "      <td>Male</td>\n",
       "      <td>42</td>\n",
       "      <td>52483.0</td>\n",
       "      <td>No</td>\n",
       "    </tr>\n",
       "    <tr>\n",
       "      <th>3</th>\n",
       "      <td>Dallas</td>\n",
       "      <td>Male</td>\n",
       "      <td>40</td>\n",
       "      <td>40941.0</td>\n",
       "      <td>No</td>\n",
       "    </tr>\n",
       "    <tr>\n",
       "      <th>4</th>\n",
       "      <td>Dallas</td>\n",
       "      <td>Male</td>\n",
       "      <td>46</td>\n",
       "      <td>50289.0</td>\n",
       "      <td>No</td>\n",
       "    </tr>\n",
       "  </tbody>\n",
       "</table>\n",
       "</div>"
      ],
      "text/plain": [
       "     City Gender  Age   Income Illness\n",
       "0  Dallas   Male   41  40367.0      No\n",
       "1  Dallas   Male   54  45084.0      No\n",
       "2  Dallas   Male   42  52483.0      No\n",
       "3  Dallas   Male   40  40941.0      No\n",
       "4  Dallas   Male   46  50289.0      No"
      ]
     },
     "execution_count": 5,
     "metadata": {},
     "output_type": "execute_result"
    }
   ],
   "source": [
    "#так как Number является порядковым номером строки, удалим его\n",
    "df = df.drop(columns=['Number'], axis=1)\n",
    "df.head()"
   ]
  },
  {
   "cell_type": "markdown",
   "id": "8581f4c2",
   "metadata": {
    "id": "8581f4c2"
   },
   "source": [
    "### Преобразование категориальных признаков в числовые"
   ]
  },
  {
   "cell_type": "code",
   "execution_count": 6,
   "id": "2d47eff4",
   "metadata": {
    "id": "2d47eff4"
   },
   "outputs": [],
   "source": [
    "from sklearn.preprocessing import LabelEncoder, OrdinalEncoder"
   ]
  },
  {
   "cell_type": "markdown",
   "id": "8097488a",
   "metadata": {
    "id": "8097488a"
   },
   "source": [
    "##### Кодируем столбец 'City'"
   ]
  },
  {
   "cell_type": "code",
   "execution_count": 7,
   "id": "1d2b115a",
   "metadata": {
    "id": "1d2b115a",
    "outputId": "f029c870-39bb-4370-e7c2-48da677ddda1"
   },
   "outputs": [
    {
     "data": {
      "text/plain": [
       "array(['Dallas', 'New York City', 'Los Angeles', 'Mountain View',\n",
       "       'Boston', 'Washington D.C.', 'San Diego', 'Austin'], dtype=object)"
      ]
     },
     "execution_count": 7,
     "metadata": {},
     "output_type": "execute_result"
    }
   ],
   "source": [
    "df['City'].unique()"
   ]
  },
  {
   "cell_type": "code",
   "execution_count": 8,
   "id": "184f5ad9",
   "metadata": {
    "id": "184f5ad9"
   },
   "outputs": [],
   "source": [
    "ord_enc = OrdinalEncoder(dtype=np.int64)"
   ]
  },
  {
   "cell_type": "code",
   "execution_count": 9,
   "id": "44f7172b",
   "metadata": {
    "id": "44f7172b"
   },
   "outputs": [],
   "source": [
    "df['City'] = ord_enc.fit_transform(df[['City']])"
   ]
  },
  {
   "cell_type": "code",
   "execution_count": 10,
   "id": "b114b15d",
   "metadata": {
    "id": "b114b15d",
    "outputId": "703d31be-719b-4eef-9bf6-ea2663ff98ee"
   },
   "outputs": [
    {
     "data": {
      "text/plain": [
       "array([2, 5, 3, 4, 1, 7, 6, 0])"
      ]
     },
     "execution_count": 10,
     "metadata": {},
     "output_type": "execute_result"
    }
   ],
   "source": [
    "df['City'].unique()"
   ]
  },
  {
   "cell_type": "markdown",
   "id": "64d01b15",
   "metadata": {
    "id": "64d01b15"
   },
   "source": [
    "##### Кодируем столбец 'Gender'"
   ]
  },
  {
   "cell_type": "code",
   "execution_count": 11,
   "id": "fa827d3f",
   "metadata": {
    "id": "fa827d3f",
    "outputId": "e681dc3f-a1fa-4c16-df31-4771b9836bcf"
   },
   "outputs": [
    {
     "data": {
      "text/plain": [
       "array(['Male', 'Female'], dtype=object)"
      ]
     },
     "execution_count": 11,
     "metadata": {},
     "output_type": "execute_result"
    }
   ],
   "source": [
    "df['Gender'].unique()"
   ]
  },
  {
   "cell_type": "code",
   "execution_count": 12,
   "id": "7ceb61fb",
   "metadata": {
    "id": "7ceb61fb",
    "outputId": "16e0aeb5-0976-4052-c083-d28aba67915b"
   },
   "outputs": [
    {
     "data": {
      "text/plain": [
       "array([1, 0])"
      ]
     },
     "execution_count": 12,
     "metadata": {},
     "output_type": "execute_result"
    }
   ],
   "source": [
    "legender = LabelEncoder()\n",
    "legender_arr = legender.fit_transform(df['Gender'])\n",
    "df['Gender'] = legender_arr\n",
    "df['Gender'].unique()"
   ]
  },
  {
   "cell_type": "markdown",
   "id": "5ca07143",
   "metadata": {
    "id": "5ca07143"
   },
   "source": [
    "##### Кодируем столбец 'Illness'"
   ]
  },
  {
   "cell_type": "code",
   "execution_count": 13,
   "id": "6f32f796",
   "metadata": {
    "id": "6f32f796",
    "outputId": "c813fd38-e271-40bc-9264-038d076dbf5a"
   },
   "outputs": [
    {
     "data": {
      "text/plain": [
       "array(['No', 'Yes'], dtype=object)"
      ]
     },
     "execution_count": 13,
     "metadata": {},
     "output_type": "execute_result"
    }
   ],
   "source": [
    "df['Illness'].unique()"
   ]
  },
  {
   "cell_type": "code",
   "execution_count": 14,
   "id": "1f8ab3df",
   "metadata": {
    "id": "1f8ab3df",
    "outputId": "f8df107c-44c4-4608-ff61-dc797a0f2145"
   },
   "outputs": [
    {
     "data": {
      "text/plain": [
       "array([0, 1])"
      ]
     },
     "execution_count": 14,
     "metadata": {},
     "output_type": "execute_result"
    }
   ],
   "source": [
    "leill = LabelEncoder()\n",
    "df['Illness'] = leill.fit_transform(df['Illness'])\n",
    "df['Illness'].unique()"
   ]
  },
  {
   "cell_type": "code",
   "execution_count": 15,
   "id": "265ae27b",
   "metadata": {
    "id": "265ae27b",
    "outputId": "4cd6f5c5-6f49-4db9-e6ff-63f202cb6333"
   },
   "outputs": [
    {
     "data": {
      "text/html": [
       "<div>\n",
       "<style scoped>\n",
       "    .dataframe tbody tr th:only-of-type {\n",
       "        vertical-align: middle;\n",
       "    }\n",
       "\n",
       "    .dataframe tbody tr th {\n",
       "        vertical-align: top;\n",
       "    }\n",
       "\n",
       "    .dataframe thead th {\n",
       "        text-align: right;\n",
       "    }\n",
       "</style>\n",
       "<table border=\"1\" class=\"dataframe\">\n",
       "  <thead>\n",
       "    <tr style=\"text-align: right;\">\n",
       "      <th></th>\n",
       "      <th>City</th>\n",
       "      <th>Gender</th>\n",
       "      <th>Age</th>\n",
       "      <th>Income</th>\n",
       "      <th>Illness</th>\n",
       "    </tr>\n",
       "  </thead>\n",
       "  <tbody>\n",
       "    <tr>\n",
       "      <th>0</th>\n",
       "      <td>2</td>\n",
       "      <td>1</td>\n",
       "      <td>41</td>\n",
       "      <td>40367.0</td>\n",
       "      <td>0</td>\n",
       "    </tr>\n",
       "    <tr>\n",
       "      <th>1</th>\n",
       "      <td>2</td>\n",
       "      <td>1</td>\n",
       "      <td>54</td>\n",
       "      <td>45084.0</td>\n",
       "      <td>0</td>\n",
       "    </tr>\n",
       "    <tr>\n",
       "      <th>2</th>\n",
       "      <td>2</td>\n",
       "      <td>1</td>\n",
       "      <td>42</td>\n",
       "      <td>52483.0</td>\n",
       "      <td>0</td>\n",
       "    </tr>\n",
       "    <tr>\n",
       "      <th>3</th>\n",
       "      <td>2</td>\n",
       "      <td>1</td>\n",
       "      <td>40</td>\n",
       "      <td>40941.0</td>\n",
       "      <td>0</td>\n",
       "    </tr>\n",
       "    <tr>\n",
       "      <th>4</th>\n",
       "      <td>2</td>\n",
       "      <td>1</td>\n",
       "      <td>46</td>\n",
       "      <td>50289.0</td>\n",
       "      <td>0</td>\n",
       "    </tr>\n",
       "  </tbody>\n",
       "</table>\n",
       "</div>"
      ],
      "text/plain": [
       "   City  Gender  Age   Income  Illness\n",
       "0     2       1   41  40367.0        0\n",
       "1     2       1   54  45084.0        0\n",
       "2     2       1   42  52483.0        0\n",
       "3     2       1   40  40941.0        0\n",
       "4     2       1   46  50289.0        0"
      ]
     },
     "execution_count": 15,
     "metadata": {},
     "output_type": "execute_result"
    }
   ],
   "source": [
    "df.head()"
   ]
  },
  {
   "cell_type": "markdown",
   "id": "4f8bbe81",
   "metadata": {
    "id": "4f8bbe81"
   },
   "source": [
    "##### Возьмем 10000 строк для построение модели"
   ]
  },
  {
   "cell_type": "code",
   "execution_count": 16,
   "id": "4ca3b026",
   "metadata": {
    "id": "4ca3b026"
   },
   "outputs": [],
   "source": [
    "from sklearn.utils import shuffle"
   ]
  },
  {
   "cell_type": "code",
   "execution_count": 17,
   "id": "bbbe435d",
   "metadata": {
    "id": "bbbe435d",
    "outputId": "8c3a47a7-7aa1-499c-edd5-3a193be958c5"
   },
   "outputs": [
    {
     "data": {
      "text/plain": [
       "(150000, 5)"
      ]
     },
     "execution_count": 17,
     "metadata": {},
     "output_type": "execute_result"
    }
   ],
   "source": [
    "df.shape"
   ]
  },
  {
   "cell_type": "code",
   "execution_count": 18,
   "id": "0b0fc4dd",
   "metadata": {
    "id": "0b0fc4dd"
   },
   "outputs": [],
   "source": [
    "df_cut = shuffle(df, random_state=1).reset_index(drop=True)\n",
    "df_cut = df.iloc[0:10000, :]"
   ]
  },
  {
   "cell_type": "code",
   "execution_count": 19,
   "id": "1879990c",
   "metadata": {
    "id": "1879990c",
    "outputId": "7af44da9-a51d-4324-c299-bbb4a155ac1e"
   },
   "outputs": [
    {
     "data": {
      "text/plain": [
       "(10000, 5)"
      ]
     },
     "execution_count": 19,
     "metadata": {},
     "output_type": "execute_result"
    }
   ],
   "source": [
    "df_cut.shape"
   ]
  },
  {
   "cell_type": "markdown",
   "id": "e7c4b340",
   "metadata": {
    "id": "e7c4b340"
   },
   "source": [
    "### В качестве целевого признака выбрано наличие болезни ('Illness')"
   ]
  },
  {
   "cell_type": "code",
   "execution_count": 20,
   "id": "212e9541",
   "metadata": {
    "id": "212e9541"
   },
   "outputs": [],
   "source": [
    "x_train, x_test, y_train, y_test = train_test_split(df_cut.drop('Illness', axis=1), df_cut['Illness'], test_size=0.5, random_state=4)"
   ]
  },
  {
   "cell_type": "markdown",
   "id": "4a663d95",
   "metadata": {
    "id": "4a663d95"
   },
   "source": [
    "## Выбор метрик"
   ]
  },
  {
   "cell_type": "markdown",
   "id": "8a29fbc7",
   "metadata": {
    "id": "8a29fbc7"
   },
   "source": [
    "Так как выполняется задача небинарной классификации и в тестовой выборке возможен дисбаланс классов, были выбраны следующие метрики:  \n",
    "\n",
    "-precision;  \n",
    "-recall;  \n",
    "-f1-score.  \n",
    "Всем метрикам был задан уровень детализации average='weighted'."
   ]
  },
  {
   "cell_type": "code",
   "execution_count": 21,
   "id": "37f65852",
   "metadata": {
    "id": "37f65852"
   },
   "outputs": [],
   "source": [
    "def print_metrics(y_test, y_pred):\n",
    "    rep = classification_report(y_test, y_pred, output_dict=True, zero_division=0)\n",
    "    print(\"weighted precision:\", rep['weighted avg']['precision'])\n",
    "    print(\"weighted recall:\", rep['weighted avg']['recall'])\n",
    "    print(\"weighted f1-score:\", rep['weighted avg']['f1-score'])"
   ]
  },
  {
   "cell_type": "markdown",
   "id": "c2af35ae",
   "metadata": {
    "id": "c2af35ae"
   },
   "source": [
    "## Метод опорных векторов"
   ]
  },
  {
   "cell_type": "markdown",
   "id": "092b6ab4",
   "metadata": {
    "id": "092b6ab4"
   },
   "source": [
    "### Базовая модель"
   ]
  },
  {
   "cell_type": "code",
   "execution_count": 22,
   "id": "05882550",
   "metadata": {
    "id": "05882550",
    "outputId": "49ceb6b0-ab35-4aa8-d73b-bd09a336f985"
   },
   "outputs": [
    {
     "name": "stdout",
     "output_type": "stream",
     "text": [
      "weighted precision: 0.85414564\n",
      "weighted recall: 0.9242\n",
      "weighted f1-score: 0.8877929944912172\n"
     ]
    }
   ],
   "source": [
    "svm_model = SVC()\n",
    "svm_model.fit(x_train, y_train)\n",
    "y_pred_svm = svm_model.predict(x_test)\n",
    "print_metrics(y_test, y_pred_svm)"
   ]
  },
  {
   "cell_type": "markdown",
   "id": "b660886a",
   "metadata": {
    "id": "b660886a"
   },
   "source": [
    "### Подбор гиперпараметров"
   ]
  },
  {
   "cell_type": "code",
   "execution_count": 23,
   "id": "17db73eb",
   "metadata": {
    "id": "17db73eb",
    "outputId": "745c2fcf-e8aa-4748-fe3c-931c0d1c95fd"
   },
   "outputs": [
    {
     "name": "stdout",
     "output_type": "stream",
     "text": [
      "{'C': 0.1}\n"
     ]
    }
   ],
   "source": [
    "params = {'C': np.concatenate([np.arange(0.1, 2, 0.03), np.arange(2, 20, 1)])}\n",
    "grid_cv = GridSearchCV(estimator=svm_model, param_grid=params, cv=10, n_jobs=-1, scoring='f1_macro')\n",
    "grid_cv.fit(x_train, y_train)\n",
    "print(grid_cv.best_params_)"
   ]
  },
  {
   "cell_type": "markdown",
   "id": "85b8bf62",
   "metadata": {
    "id": "85b8bf62"
   },
   "source": [
    "### Лучшая модель"
   ]
  },
  {
   "cell_type": "code",
   "execution_count": 24,
   "id": "73820336",
   "metadata": {
    "id": "73820336",
    "outputId": "949059cc-a5c4-4871-b789-2052f42d25be"
   },
   "outputs": [
    {
     "name": "stdout",
     "output_type": "stream",
     "text": [
      "weighted precision: 0.85414564\n",
      "weighted recall: 0.9242\n",
      "weighted f1-score: 0.8877929944912172\n"
     ]
    }
   ],
   "source": [
    "best_svm_model = grid_cv.best_estimator_\n",
    "best_svm_model.fit(x_train, y_train)\n",
    "y_pred_svm = best_svm_model.predict(x_test)\n",
    "print_metrics(y_test, y_pred_svm)"
   ]
  },
  {
   "cell_type": "markdown",
   "id": "c657f522",
   "metadata": {
    "id": "c657f522"
   },
   "source": [
    "## Случайный лес"
   ]
  },
  {
   "cell_type": "code",
   "execution_count": 25,
   "id": "468b6f4a",
   "metadata": {
    "id": "468b6f4a",
    "outputId": "9138f255-34c1-4757-872c-799d23bb03f3"
   },
   "outputs": [
    {
     "name": "stdout",
     "output_type": "stream",
     "text": [
      "weighted precision: 0.8629238282771686\n",
      "weighted recall: 0.8932\n",
      "weighted f1-score: 0.8771246233451695\n"
     ]
    }
   ],
   "source": [
    "rfc_model = RandomForestClassifier()\n",
    "rfc_model.fit(x_train, y_train)\n",
    "y_pred_rfc = rfc_model.predict(x_test)\n",
    "print_metrics(y_test, y_pred_rfc)"
   ]
  },
  {
   "cell_type": "markdown",
   "id": "9926dfed",
   "metadata": {
    "id": "9926dfed"
   },
   "source": [
    "### Подбор гиперпараметров"
   ]
  },
  {
   "cell_type": "code",
   "execution_count": 26,
   "id": "a05a02fc",
   "metadata": {
    "id": "a05a02fc",
    "outputId": "3518e893-a241-4a19-fb8a-a5c48b323e67"
   },
   "outputs": [
    {
     "name": "stdout",
     "output_type": "stream",
     "text": [
      "{'criterion': 'gini', 'max_features': 3, 'min_samples_leaf': 5, 'n_estimators': 5}\n"
     ]
    }
   ],
   "source": [
    "params = {'n_estimators': [5, 10, 50, 100], 'max_features': [2, 3, 4], 'criterion': ['gini', 'entropy'], 'min_samples_leaf': [1, 2, 3, 4, 5]}\n",
    "grid_cv = GridSearchCV(estimator=rfc_model, param_grid=params, cv=10, n_jobs=-1, scoring='f1_weighted')\n",
    "grid_cv.fit(x_train, y_train)\n",
    "print(grid_cv.best_params_)"
   ]
  },
  {
   "cell_type": "code",
   "execution_count": 27,
   "id": "8c6346f3",
   "metadata": {
    "id": "8c6346f3",
    "outputId": "76faab31-d011-45fd-9d1b-9146491bbaa6"
   },
   "outputs": [
    {
     "name": "stdout",
     "output_type": "stream",
     "text": [
      "weighted precision: 0.8707478711821672\n",
      "weighted recall: 0.9226\n",
      "weighted f1-score: 0.8881275860397595\n"
     ]
    }
   ],
   "source": [
    "best_rfc_model = grid_cv.best_estimator_\n",
    "best_rfc_model.fit(x_train, y_train)\n",
    "y_pred_rfc = best_rfc_model.predict(x_test)\n",
    "print_metrics(y_test, y_pred_rfc)"
   ]
  },
  {
   "cell_type": "markdown",
   "id": "c9c04782",
   "metadata": {
    "id": "c9c04782"
   },
   "source": [
    "## Сравнение результатов"
   ]
  },
  {
   "cell_type": "code",
   "execution_count": 28,
   "id": "154ab57d",
   "metadata": {
    "id": "154ab57d",
    "outputId": "9cc7f50b-28e3-4b47-fee3-674cf6256bae"
   },
   "outputs": [
    {
     "name": "stdout",
     "output_type": "stream",
     "text": [
      "SVC result\n",
      "\n",
      "weighted precision: 0.85414564\n",
      "weighted recall: 0.9242\n",
      "weighted f1-score: 0.8877929944912172\n"
     ]
    }
   ],
   "source": [
    "print(\"SVC result\\n\")\n",
    "print_metrics(y_test, y_pred_svm)"
   ]
  },
  {
   "cell_type": "code",
   "execution_count": 29,
   "id": "a28f631a",
   "metadata": {
    "id": "a28f631a",
    "outputId": "e78e255a-b9bc-4350-8c17-2dc017f0ff5c"
   },
   "outputs": [
    {
     "name": "stdout",
     "output_type": "stream",
     "text": [
      "RandomForestClassifier result\n",
      "\n",
      "weighted precision: 0.8707478711821672\n",
      "weighted recall: 0.9226\n",
      "weighted f1-score: 0.8881275860397595\n"
     ]
    }
   ],
   "source": [
    "print(\"RandomForestClassifier result\\n\")\n",
    "print_metrics(y_test, y_pred_rfc)"
   ]
  },
  {
   "cell_type": "markdown",
   "id": "6ca791f3",
   "metadata": {
    "id": "6ca791f3"
   },
   "source": [
    "## Вывод"
   ]
  },
  {
   "cell_type": "markdown",
   "id": "614923b0",
   "metadata": {
    "id": "614923b0"
   },
   "source": [
    "Модели с подобранными гиперпараметрами оказались лучше базовых моделей. Метрики показывают, что качество модели SVM немного выше, чем модели \"случайного леса\"."
   ]
  },
  {
   "cell_type": "code",
   "execution_count": null,
   "id": "c912cc40",
   "metadata": {
    "id": "c912cc40"
   },
   "outputs": [],
   "source": []
  }
 ],
 "metadata": {
  "colab": {
   "collapsed_sections": [],
   "name": "RK2.ipynb",
   "provenance": []
  },
  "kernelspec": {
   "display_name": "Python 3 (ipykernel)",
   "language": "python",
   "name": "python3"
  },
  "language_info": {
   "codemirror_mode": {
    "name": "ipython",
    "version": 3
   },
   "file_extension": ".py",
   "mimetype": "text/x-python",
   "name": "python",
   "nbconvert_exporter": "python",
   "pygments_lexer": "ipython3",
   "version": "3.9.7"
  }
 },
 "nbformat": 4,
 "nbformat_minor": 5
}