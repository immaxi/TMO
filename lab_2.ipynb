{
 "cells": [
  {
   "cell_type": "markdown",
   "id": "38f2ec08",
   "metadata": {},
   "source": [
    "# Лабораторная работа №2. Яровенко Максим ИУ5Ц-82Б.\n",
    "\n",
    "# Загрузка и первичный анализ"
   ]
  },
  {
   "cell_type": "code",
   "execution_count": 1,
   "id": "92f533f2",
   "metadata": {},
   "outputs": [],
   "source": [
    "import numpy as np\n",
    "import pandas as pd\n",
    "import seaborn as sns\n",
    "import matplotlib.pyplot as plt\n",
    "%matplotlib inline \n",
    "sns.set(style=\"ticks\")"
   ]
  },
  {
   "cell_type": "code",
   "execution_count": 2,
   "id": "44db043b",
   "metadata": {},
   "outputs": [],
   "source": [
    "# размер набора данных\n",
    "data = pd.read_csv('laptop.csv', sep=\",\")"
   ]
  },
  {
   "cell_type": "code",
   "execution_count": 3,
   "id": "fdab9e78",
   "metadata": {},
   "outputs": [
    {
     "data": {
      "text/plain": "(130, 11)"
     },
     "execution_count": 3,
     "metadata": {},
     "output_type": "execute_result"
    }
   ],
   "source": [
    "# размер набора данных\n",
    "data.shape"
   ]
  },
  {
   "cell_type": "code",
   "execution_count": 4,
   "id": "dbee85de",
   "metadata": {},
   "outputs": [
    {
     "data": {
      "text/plain": "Unnamed: 0              int64\nBrand                  object\nModel                  object\nSeries                 object\nProcessor              object\nProcessor_Gen          object\nRAM                   float64\nHard_Disk_Capacity     object\nOS                     object\nRating                float64\nPrice                   int64\ndtype: object"
     },
     "execution_count": 4,
     "metadata": {},
     "output_type": "execute_result"
    }
   ],
   "source": [
    "# типы колонок\n",
    "data.dtypes"
   ]
  },
  {
   "cell_type": "code",
   "execution_count": 5,
   "id": "3b7250f6",
   "metadata": {},
   "outputs": [
    {
     "data": {
      "text/plain": "Unnamed: 0             0\nBrand                  0\nModel                 14\nSeries                50\nProcessor              7\nProcessor_Gen          7\nRAM                    8\nHard_Disk_Capacity     8\nOS                     8\nRating                 0\nPrice                  0\ndtype: int64"
     },
     "execution_count": 5,
     "metadata": {},
     "output_type": "execute_result"
    }
   ],
   "source": [
    "# проверим есть ли пропущенные значения\n",
    "data.isnull().sum()"
   ]
  },
  {
   "cell_type": "code",
   "execution_count": 6,
   "id": "c2056d3c",
   "metadata": {},
   "outputs": [
    {
     "data": {
      "text/plain": "   Unnamed: 0 Brand     Model  Series Processor Processor_Gen  RAM  \\\n0           0  DELL  Inspiron     NaN        i3          11th  8.0   \n1           1  DELL    Vostro     NaN        i5          11th  8.0   \n2           2  ASUS  VivoBook      15        i3          10th  8.0   \n3           3  DELL  Inspiron     NaN        i3          11th  8.0   \n4           4  ASUS       TUF  Gaming        i5          10th  8.0   \n\n  Hard_Disk_Capacity               OS  Rating  Price  \n0           1 TB HDD  Windows 11 Home     3.7  39040  \n1           1 TB HDD  Windows 10 Home     3.6  50840  \n2         512 GB SSD  Windows 11 Home     4.3  37940  \n3           1 TB HDD       256 GB SSD     4.4  44440  \n4         512 GB SSD  Windows 10 Home     4.5  57940  ",
      "text/html": "<div>\n<style scoped>\n    .dataframe tbody tr th:only-of-type {\n        vertical-align: middle;\n    }\n\n    .dataframe tbody tr th {\n        vertical-align: top;\n    }\n\n    .dataframe thead th {\n        text-align: right;\n    }\n</style>\n<table border=\"1\" class=\"dataframe\">\n  <thead>\n    <tr style=\"text-align: right;\">\n      <th></th>\n      <th>Unnamed: 0</th>\n      <th>Brand</th>\n      <th>Model</th>\n      <th>Series</th>\n      <th>Processor</th>\n      <th>Processor_Gen</th>\n      <th>RAM</th>\n      <th>Hard_Disk_Capacity</th>\n      <th>OS</th>\n      <th>Rating</th>\n      <th>Price</th>\n    </tr>\n  </thead>\n  <tbody>\n    <tr>\n      <th>0</th>\n      <td>0</td>\n      <td>DELL</td>\n      <td>Inspiron</td>\n      <td>NaN</td>\n      <td>i3</td>\n      <td>11th</td>\n      <td>8.0</td>\n      <td>1 TB HDD</td>\n      <td>Windows 11 Home</td>\n      <td>3.7</td>\n      <td>39040</td>\n    </tr>\n    <tr>\n      <th>1</th>\n      <td>1</td>\n      <td>DELL</td>\n      <td>Vostro</td>\n      <td>NaN</td>\n      <td>i5</td>\n      <td>11th</td>\n      <td>8.0</td>\n      <td>1 TB HDD</td>\n      <td>Windows 10 Home</td>\n      <td>3.6</td>\n      <td>50840</td>\n    </tr>\n    <tr>\n      <th>2</th>\n      <td>2</td>\n      <td>ASUS</td>\n      <td>VivoBook</td>\n      <td>15</td>\n      <td>i3</td>\n      <td>10th</td>\n      <td>8.0</td>\n      <td>512 GB SSD</td>\n      <td>Windows 11 Home</td>\n      <td>4.3</td>\n      <td>37940</td>\n    </tr>\n    <tr>\n      <th>3</th>\n      <td>3</td>\n      <td>DELL</td>\n      <td>Inspiron</td>\n      <td>NaN</td>\n      <td>i3</td>\n      <td>11th</td>\n      <td>8.0</td>\n      <td>1 TB HDD</td>\n      <td>256 GB SSD</td>\n      <td>4.4</td>\n      <td>44440</td>\n    </tr>\n    <tr>\n      <th>4</th>\n      <td>4</td>\n      <td>ASUS</td>\n      <td>TUF</td>\n      <td>Gaming</td>\n      <td>i5</td>\n      <td>10th</td>\n      <td>8.0</td>\n      <td>512 GB SSD</td>\n      <td>Windows 10 Home</td>\n      <td>4.5</td>\n      <td>57940</td>\n    </tr>\n  </tbody>\n</table>\n</div>"
     },
     "execution_count": 6,
     "metadata": {},
     "output_type": "execute_result"
    }
   ],
   "source": [
    "# Первые 5 строк датасета\n",
    "data.head()"
   ]
  },
  {
   "cell_type": "code",
   "execution_count": 7,
   "id": "20a1de0a",
   "metadata": {},
   "outputs": [
    {
     "name": "stdout",
     "output_type": "stream",
     "text": [
      "Всего строк: 130\n"
     ]
    }
   ],
   "source": [
    "total_count = data.shape[0]\n",
    "print('Всего строк: {}'.format(total_count))"
   ]
  },
  {
   "cell_type": "markdown",
   "id": "855aae51",
   "metadata": {},
   "source": [
    "# Обработка пропусков в данных"
   ]
  },
  {
   "cell_type": "code",
   "execution_count": 8,
   "id": "435eac63",
   "metadata": {},
   "outputs": [
    {
     "data": {
      "text/plain": "((130, 11), (72, 11))"
     },
     "execution_count": 8,
     "metadata": {},
     "output_type": "execute_result"
    }
   ],
   "source": [
    "# Удаление строк, содержащих пустые значения\n",
    "data_new = data.dropna(axis=0, how='any')\n",
    "(data.shape, data_new.shape)"
   ]
  },
  {
   "cell_type": "code",
   "execution_count": 9,
   "id": "da7be004",
   "metadata": {},
   "outputs": [
    {
     "data": {
      "text/plain": "   Unnamed: 0   Brand     Model  Series Processor Processor_Gen  RAM  \\\n2           2    ASUS  VivoBook      15        i3          10th  8.0   \n4           4    ASUS       TUF  Gaming        i5          10th  8.0   \n5           5    ASUS     Ryzen       3     3250U           3rd  8.0   \n6           6    DELL  Inspiron  Athlon     3050U             -  4.0   \n8           8  Lenovo   IdeaPad       3        i3          10th  8.0   \n\n  Hard_Disk_Capacity               OS  Rating  Price  \n2         512 GB SSD  Windows 11 Home     4.3  37940  \n4         512 GB SSD  Windows 10 Home     4.5  57940  \n5         256 GB SSD  Windows 10 Home     4.3  35940  \n6         256 GB SSD  Windows 11 Home     4.2  33940  \n8           1 TB HDD  Windows 10 Home     4.1  37440  ",
      "text/html": "<div>\n<style scoped>\n    .dataframe tbody tr th:only-of-type {\n        vertical-align: middle;\n    }\n\n    .dataframe tbody tr th {\n        vertical-align: top;\n    }\n\n    .dataframe thead th {\n        text-align: right;\n    }\n</style>\n<table border=\"1\" class=\"dataframe\">\n  <thead>\n    <tr style=\"text-align: right;\">\n      <th></th>\n      <th>Unnamed: 0</th>\n      <th>Brand</th>\n      <th>Model</th>\n      <th>Series</th>\n      <th>Processor</th>\n      <th>Processor_Gen</th>\n      <th>RAM</th>\n      <th>Hard_Disk_Capacity</th>\n      <th>OS</th>\n      <th>Rating</th>\n      <th>Price</th>\n    </tr>\n  </thead>\n  <tbody>\n    <tr>\n      <th>2</th>\n      <td>2</td>\n      <td>ASUS</td>\n      <td>VivoBook</td>\n      <td>15</td>\n      <td>i3</td>\n      <td>10th</td>\n      <td>8.0</td>\n      <td>512 GB SSD</td>\n      <td>Windows 11 Home</td>\n      <td>4.3</td>\n      <td>37940</td>\n    </tr>\n    <tr>\n      <th>4</th>\n      <td>4</td>\n      <td>ASUS</td>\n      <td>TUF</td>\n      <td>Gaming</td>\n      <td>i5</td>\n      <td>10th</td>\n      <td>8.0</td>\n      <td>512 GB SSD</td>\n      <td>Windows 10 Home</td>\n      <td>4.5</td>\n      <td>57940</td>\n    </tr>\n    <tr>\n      <th>5</th>\n      <td>5</td>\n      <td>ASUS</td>\n      <td>Ryzen</td>\n      <td>3</td>\n      <td>3250U</td>\n      <td>3rd</td>\n      <td>8.0</td>\n      <td>256 GB SSD</td>\n      <td>Windows 10 Home</td>\n      <td>4.3</td>\n      <td>35940</td>\n    </tr>\n    <tr>\n      <th>6</th>\n      <td>6</td>\n      <td>DELL</td>\n      <td>Inspiron</td>\n      <td>Athlon</td>\n      <td>3050U</td>\n      <td>-</td>\n      <td>4.0</td>\n      <td>256 GB SSD</td>\n      <td>Windows 11 Home</td>\n      <td>4.2</td>\n      <td>33940</td>\n    </tr>\n    <tr>\n      <th>8</th>\n      <td>8</td>\n      <td>Lenovo</td>\n      <td>IdeaPad</td>\n      <td>3</td>\n      <td>i3</td>\n      <td>10th</td>\n      <td>8.0</td>\n      <td>1 TB HDD</td>\n      <td>Windows 10 Home</td>\n      <td>4.1</td>\n      <td>37440</td>\n    </tr>\n  </tbody>\n</table>\n</div>"
     },
     "execution_count": 9,
     "metadata": {},
     "output_type": "execute_result"
    }
   ],
   "source": [
    "data_new.head()"
   ]
  },
  {
   "cell_type": "markdown",
   "id": "8c23a302",
   "metadata": {},
   "source": [
    "# Преобразование категориальных признаков в числовые"
   ]
  },
  {
   "cell_type": "code",
   "execution_count": 10,
   "id": "a1af0989",
   "metadata": {},
   "outputs": [
    {
     "data": {
      "text/plain": "   Unnamed: 0  RAM  Rating  Price  Brand_ASUS  Brand_DELL  Brand_HP  \\\n2           2  8.0     4.3  37940           1           0         0   \n4           4  8.0     4.5  57940           1           0         0   \n5           5  8.0     4.3  35940           1           0         0   \n6           6  4.0     4.2  33940           0           1         0   \n8           8  8.0     4.1  37440           0           0         0   \n\n   Brand_Lenovo  Brand_MICROSOFT  Brand_MSI  ...  \\\n2             0                0          0  ...   \n4             0                0          0  ...   \n5             0                0          0  ...   \n6             0                0          0  ...   \n8             1                0          0  ...   \n\n   Hard_Disk_Capacity_32 GB EMMC Storage  Hard_Disk_Capacity_512 GB SSD  \\\n2                                      0                              1   \n4                                      0                              1   \n5                                      0                              0   \n6                                      0                              0   \n8                                      0                              0   \n\n   Hard_Disk_Capacity_64 GB EMMC Storage  OS_128 GB SSD  OS_256 GB SSD  \\\n2                                      0              0              0   \n4                                      0              0              0   \n5                                      0              0              0   \n6                                      0              0              0   \n8                                      0              0              0   \n\n   OS_Chrome OS  OS_DOS  OS_Windows 10  OS_Windows 10 Home  OS_Windows 11 Home  \n2             0       0              0                   0                   1  \n4             0       0              0                   1                   0  \n5             0       0              0                   1                   0  \n6             0       0              0                   0                   1  \n8             0       0              0                   1                   0  \n\n[5 rows x 102 columns]",
      "text/html": "<div>\n<style scoped>\n    .dataframe tbody tr th:only-of-type {\n        vertical-align: middle;\n    }\n\n    .dataframe tbody tr th {\n        vertical-align: top;\n    }\n\n    .dataframe thead th {\n        text-align: right;\n    }\n</style>\n<table border=\"1\" class=\"dataframe\">\n  <thead>\n    <tr style=\"text-align: right;\">\n      <th></th>\n      <th>Unnamed: 0</th>\n      <th>RAM</th>\n      <th>Rating</th>\n      <th>Price</th>\n      <th>Brand_ASUS</th>\n      <th>Brand_DELL</th>\n      <th>Brand_HP</th>\n      <th>Brand_Lenovo</th>\n      <th>Brand_MICROSOFT</th>\n      <th>Brand_MSI</th>\n      <th>...</th>\n      <th>Hard_Disk_Capacity_32 GB EMMC Storage</th>\n      <th>Hard_Disk_Capacity_512 GB SSD</th>\n      <th>Hard_Disk_Capacity_64 GB EMMC Storage</th>\n      <th>OS_128 GB SSD</th>\n      <th>OS_256 GB SSD</th>\n      <th>OS_Chrome OS</th>\n      <th>OS_DOS</th>\n      <th>OS_Windows 10</th>\n      <th>OS_Windows 10 Home</th>\n      <th>OS_Windows 11 Home</th>\n    </tr>\n  </thead>\n  <tbody>\n    <tr>\n      <th>2</th>\n      <td>2</td>\n      <td>8.0</td>\n      <td>4.3</td>\n      <td>37940</td>\n      <td>1</td>\n      <td>0</td>\n      <td>0</td>\n      <td>0</td>\n      <td>0</td>\n      <td>0</td>\n      <td>...</td>\n      <td>0</td>\n      <td>1</td>\n      <td>0</td>\n      <td>0</td>\n      <td>0</td>\n      <td>0</td>\n      <td>0</td>\n      <td>0</td>\n      <td>0</td>\n      <td>1</td>\n    </tr>\n    <tr>\n      <th>4</th>\n      <td>4</td>\n      <td>8.0</td>\n      <td>4.5</td>\n      <td>57940</td>\n      <td>1</td>\n      <td>0</td>\n      <td>0</td>\n      <td>0</td>\n      <td>0</td>\n      <td>0</td>\n      <td>...</td>\n      <td>0</td>\n      <td>1</td>\n      <td>0</td>\n      <td>0</td>\n      <td>0</td>\n      <td>0</td>\n      <td>0</td>\n      <td>0</td>\n      <td>1</td>\n      <td>0</td>\n    </tr>\n    <tr>\n      <th>5</th>\n      <td>5</td>\n      <td>8.0</td>\n      <td>4.3</td>\n      <td>35940</td>\n      <td>1</td>\n      <td>0</td>\n      <td>0</td>\n      <td>0</td>\n      <td>0</td>\n      <td>0</td>\n      <td>...</td>\n      <td>0</td>\n      <td>0</td>\n      <td>0</td>\n      <td>0</td>\n      <td>0</td>\n      <td>0</td>\n      <td>0</td>\n      <td>0</td>\n      <td>1</td>\n      <td>0</td>\n    </tr>\n    <tr>\n      <th>6</th>\n      <td>6</td>\n      <td>4.0</td>\n      <td>4.2</td>\n      <td>33940</td>\n      <td>0</td>\n      <td>1</td>\n      <td>0</td>\n      <td>0</td>\n      <td>0</td>\n      <td>0</td>\n      <td>...</td>\n      <td>0</td>\n      <td>0</td>\n      <td>0</td>\n      <td>0</td>\n      <td>0</td>\n      <td>0</td>\n      <td>0</td>\n      <td>0</td>\n      <td>0</td>\n      <td>1</td>\n    </tr>\n    <tr>\n      <th>8</th>\n      <td>8</td>\n      <td>8.0</td>\n      <td>4.1</td>\n      <td>37440</td>\n      <td>0</td>\n      <td>0</td>\n      <td>0</td>\n      <td>1</td>\n      <td>0</td>\n      <td>0</td>\n      <td>...</td>\n      <td>0</td>\n      <td>0</td>\n      <td>0</td>\n      <td>0</td>\n      <td>0</td>\n      <td>0</td>\n      <td>0</td>\n      <td>0</td>\n      <td>1</td>\n      <td>0</td>\n    </tr>\n  </tbody>\n</table>\n<p>5 rows × 102 columns</p>\n</div>"
     },
     "execution_count": 10,
     "metadata": {},
     "output_type": "execute_result"
    }
   ],
   "source": [
    "# one-hot кодирование (то есть кодирование бинарными значениями)\n",
    "pd.get_dummies(data_new).head()"
   ]
  },
  {
   "cell_type": "code",
   "execution_count": 11,
   "id": "9060873a",
   "metadata": {},
   "outputs": [],
   "source": [
    "from sklearn.preprocessing import LabelEncoder"
   ]
  },
  {
   "cell_type": "code",
   "execution_count": 12,
   "id": "7d08d341",
   "metadata": {},
   "outputs": [
    {
     "data": {
      "text/plain": "         c1\n2      ASUS\n4      ASUS\n5      ASUS\n6      DELL\n8    Lenovo\n..      ...\n115  Lenovo\n116  Lenovo\n118    ASUS\n128    ASUS\n129  Lenovo\n\n[72 rows x 1 columns]",
      "text/html": "<div>\n<style scoped>\n    .dataframe tbody tr th:only-of-type {\n        vertical-align: middle;\n    }\n\n    .dataframe tbody tr th {\n        vertical-align: top;\n    }\n\n    .dataframe thead th {\n        text-align: right;\n    }\n</style>\n<table border=\"1\" class=\"dataframe\">\n  <thead>\n    <tr style=\"text-align: right;\">\n      <th></th>\n      <th>c1</th>\n    </tr>\n  </thead>\n  <tbody>\n    <tr>\n      <th>2</th>\n      <td>ASUS</td>\n    </tr>\n    <tr>\n      <th>4</th>\n      <td>ASUS</td>\n    </tr>\n    <tr>\n      <th>5</th>\n      <td>ASUS</td>\n    </tr>\n    <tr>\n      <th>6</th>\n      <td>DELL</td>\n    </tr>\n    <tr>\n      <th>8</th>\n      <td>Lenovo</td>\n    </tr>\n    <tr>\n      <th>...</th>\n      <td>...</td>\n    </tr>\n    <tr>\n      <th>115</th>\n      <td>Lenovo</td>\n    </tr>\n    <tr>\n      <th>116</th>\n      <td>Lenovo</td>\n    </tr>\n    <tr>\n      <th>118</th>\n      <td>ASUS</td>\n    </tr>\n    <tr>\n      <th>128</th>\n      <td>ASUS</td>\n    </tr>\n    <tr>\n      <th>129</th>\n      <td>Lenovo</td>\n    </tr>\n  </tbody>\n</table>\n<p>72 rows × 1 columns</p>\n</div>"
     },
     "execution_count": 12,
     "metadata": {},
     "output_type": "execute_result"
    }
   ],
   "source": [
    "brand_enc = data_new.T\n",
    "brand_enc = pd.DataFrame({'c1': brand_enc.T[\"Brand\"]})\n",
    "brand_enc"
   ]
  },
  {
   "cell_type": "code",
   "execution_count": 13,
   "id": "6a242fbb",
   "metadata": {},
   "outputs": [
    {
     "data": {
      "text/plain": "array(['ASUS', 'DELL', 'Lenovo', 'HP', 'acer', 'MSI', 'realme',\n       'MICROSOFT'], dtype=object)"
     },
     "execution_count": 13,
     "metadata": {},
     "output_type": "execute_result"
    }
   ],
   "source": [
    "brand_enc['c1'].unique()"
   ]
  },
  {
   "cell_type": "code",
   "execution_count": 14,
   "id": "957cddf7",
   "metadata": {},
   "outputs": [],
   "source": [
    "le = LabelEncoder()\n",
    "brand_enc_le = le.fit_transform(brand_enc['c1'])"
   ]
  },
  {
   "cell_type": "code",
   "execution_count": 15,
   "id": "9f0d6282",
   "metadata": {},
   "outputs": [
    {
     "data": {
      "text/plain": "array(['ASUS', 'DELL', 'HP', 'Lenovo', 'MICROSOFT', 'MSI', 'acer',\n       'realme'], dtype=object)"
     },
     "execution_count": 15,
     "metadata": {},
     "output_type": "execute_result"
    }
   ],
   "source": [
    "# Наименования категорий в соответствии с порядковыми номерами\n",
    "\n",
    "# Свойство называется classes, потому что предполагается что мы решаем \n",
    "# задачу классификации и каждое значение категории соответствует \n",
    "# какому-либо классу целевого признака\n",
    "\n",
    "le.classes_"
   ]
  },
  {
   "cell_type": "code",
   "execution_count": 16,
   "id": "589248bb",
   "metadata": {},
   "outputs": [
    {
     "data": {
      "text/plain": [
       "array([0, 0, 0, 1, 3, 3, 3, 1, 2, 3, 6, 0, 3, 0, 0, 3, 0, 2, 0, 3, 0, 3,\n",
       "       3, 0, 2, 1, 1, 5, 0, 0, 3, 0, 6, 3, 0, 2, 2, 3, 0, 0, 7, 5, 0, 3,\n",
       "       3, 0, 3, 3, 2, 1, 0, 2, 0, 3, 0, 2, 3, 4, 0, 0, 6, 2, 3, 0, 0, 3,\n",
       "       3, 3, 3, 0, 0, 3])"
      ]
     },
     "execution_count": 16,
     "metadata": {},
     "output_type": "execute_result"
    }
   ],
   "source": [
    "brand_enc_le"
   ]
  },
  {
   "cell_type": "code",
   "execution_count": 17,
   "id": "22cb69ad",
   "metadata": {},
   "outputs": [
    {
     "data": {
      "text/plain": [
       "array([0, 1, 2, 3, 4, 5, 6, 7])"
      ]
     },
     "execution_count": 17,
     "metadata": {},
     "output_type": "execute_result"
    }
   ],
   "source": [
    "np.unique(brand_enc_le)"
   ]
  },
  {
   "cell_type": "code",
   "execution_count": 18,
   "id": "66d3bf73",
   "metadata": {},
   "outputs": [
    {
     "data": {
      "text/plain": [
       "array(['ASUS', 'DELL', 'HP', 'Lenovo'], dtype=object)"
      ]
     },
     "execution_count": 18,
     "metadata": {},
     "output_type": "execute_result"
    }
   ],
   "source": [
    "# В этом примере видно, что перед кодированием \n",
    "# уникальные значения признака сортируются в лексикографиеском порядке\n",
    "le.inverse_transform([0, 1, 2, 3])"
   ]
  },
  {
   "cell_type": "markdown",
   "id": "e47ab74d",
   "metadata": {},
   "source": [
    "# Масштабирование данных"
   ]
  },
  {
   "cell_type": "markdown",
   "id": "69e2d8e4",
   "metadata": {},
   "source": [
    "## MinMax масштабирование"
   ]
  },
  {
   "cell_type": "code",
   "execution_count": 19,
   "id": "8c6ac6eb",
   "metadata": {},
   "outputs": [],
   "source": [
    "from sklearn.preprocessing import MinMaxScaler, StandardScaler, Normalizer"
   ]
  },
  {
   "cell_type": "code",
   "execution_count": 20,
   "id": "27653b97",
   "metadata": {},
   "outputs": [],
   "source": [
    "sc1 = MinMaxScaler()\n",
    "sc1_data = sc1.fit_transform(data[['Price']])"
   ]
  },
  {
   "cell_type": "code",
   "execution_count": 21,
   "id": "0fffa4b3",
   "metadata": {},
   "outputs": [
    {
     "data": {
      "image/png": "[encoded data removed]",
      "text/plain": [
       "<Figure size 432x288 with 1 Axes>"
      ]
     },
     "metadata": {},
     "output_type": "display_data"
    }
   ],
   "source": [
    "plt.hist(data['Price'], 50)\n",
    "plt.show()"
   ]
  },
  {
   "cell_type": "code",
   "execution_count": 22,
   "id": "43f17efe",
   "metadata": {},
   "outputs": [
    {
     "data": {
      "image/png": "[encoded data removed]",
      "text/plain": [
       "<Figure size 432x288 with 1 Axes>"
      ]
     },
     "metadata": {},
     "output_type": "display_data"
    }
   ],
   "source": [
    "plt.hist(sc1_data, 50)\n",
    "plt.show()"
   ]
  },
  {
   "cell_type": "markdown",
   "id": "df30b57f",
   "metadata": {},
   "source": [
    "## Масштабирование данных на основе Z-оценки - StandardScaler"
   ]
  },
  {
   "cell_type": "code",
   "execution_count": 23,
   "id": "2461c989",
   "metadata": {},
   "outputs": [],
   "source": [
    "sc2 = StandardScaler()\n",
    "sc2_data = sc2.fit_transform(data[['Price']])"
   ]
  },
  {
   "cell_type": "code",
   "execution_count": 24,
   "id": "61966744",
   "metadata": {},
   "outputs": [
    {
     "data": {
      "image/png": "[encoded data removed]",
      "text/plain": [
       "<Figure size 432x288 with 1 Axes>"
      ]
     },
     "metadata": {},
     "output_type": "display_data"
    }
   ],
   "source": [
    "plt.hist(sc2_data, 50)\n",
    "plt.show()"
   ]
  }
 ],
 "metadata": {
  "kernelspec": {
   "display_name": "Python 3 (ipykernel)",
   "language": "python",
   "name": "python3"
  },
  "language_info": {
   "codemirror_mode": {
    "name": "ipython",
    "version": 3
   },
   "file_extension": ".py",
   "mimetype": "text/x-python",
   "name": "python",
   "nbconvert_exporter": "python",
   "pygments_lexer": "ipython3",
   "version": "3.10.4"
  }
 },
 "nbformat": 4,
 "nbformat_minor": 5
}